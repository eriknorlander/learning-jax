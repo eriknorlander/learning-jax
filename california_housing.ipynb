{
 "cells": [
  {
   "cell_type": "markdown",
   "metadata": {
    "id": "9q9JZjt16AMf"
   },
   "source": [
    "# Classic Supervised Examples in Flax\n",
    "\n",
    "This notebook is based on Flax's official [Annoted MNIST](https://flax.readthedocs.io/en/latest/notebooks/annotated_mnist.html)\n",
    "and [MNIST Example](https://github.com/google/flax/tree/main/examples/mnist).\n",
    "\n",
    "But has been written to be a slightly more general Supervised Classification example. \n",
    "Primarily for educational purposes and reusability in other examples.\n",
    "\n",
    "A really nice thing about this example is the use of the TrainState-object. We are able to bundle many necessary variables and functions with this object and can simply pass that around to our different functions. "
   ]
  },
  {
   "cell_type": "markdown",
   "metadata": {
    "id": "VSaA8Mif6srP"
   },
   "source": [
    "## Imports\n",
    "\n",
    "Import JAX, [JAX NumPy](https://jax.readthedocs.io/en/latest/jax.numpy.html),\n",
    "Flax, ordinary NumPy, and TensorFlow Datasets (TFDS). Flax can use any\n",
    "data-loading pipeline and this example demonstrates how to utilize TFDS."
   ]
  },
  {
   "cell_type": "code",
   "execution_count": 1,
   "metadata": {
    "id": "Z7MuGFB16E8m"
   },
   "outputs": [],
   "source": [
    "import jax\n",
    "import jax.numpy as jnp                # JAX NumPy\n",
    "\n",
    "from flax import linen as nn           # The Linen API\n",
    "from flax.training import train_state  # Useful dataclass to keep train state\n",
    "\n",
    "import numpy as np                     # Ordinary NumPy\n",
    "import optax                           # Optimizers\n",
    "import tensorflow_datasets as tfds     # TFDS for MNIST\n",
    "from ipywidgets import IntProgress"
   ]
  },
  {
   "cell_type": "code",
   "execution_count": 2,
   "metadata": {},
   "outputs": [
    {
     "name": "stdout",
     "output_type": "stream",
     "text": [
      "Enabling notebook extension jupyter-js-widgets/extension...\n",
      "      - Validating: \u001b[32mOK\u001b[0m\n"
     ]
    }
   ],
   "source": [
    "!jupyter nbextension enable --py widgetsnbextension"
   ]
  },
  {
   "cell_type": "code",
   "execution_count": 3,
   "metadata": {
    "id": "AuaRYtsKmHlm"
   },
   "outputs": [
    {
     "name": "stderr",
     "output_type": "stream",
     "text": [
      "WARNING:absl:No GPU/TPU found, falling back to CPU. (Set TF_CPP_MIN_LOG_LEVEL=0 and rerun for more info.)\n"
     ]
    },
    {
     "data": {
      "text/plain": [
       "[<jaxlib.xla_extension.Device at 0x7f7f80561cb0>]"
      ]
     },
     "execution_count": 3,
     "metadata": {},
     "output_type": "execute_result"
    }
   ],
   "source": [
    "jax.devices()"
   ]
  },
  {
   "cell_type": "markdown",
   "metadata": {},
   "source": [
    "## 1. Dataset - California Housing Regression problem"
   ]
  },
  {
   "cell_type": "code",
   "execution_count": 116,
   "metadata": {
    "id": "IOeWiS_b-p8O"
   },
   "outputs": [],
   "source": [
    "from sklearn import datasets\n",
    "from sklearn.model_selection import train_test_split\n",
    "from jax import numpy as jnp\n",
    "\n",
    "def to_jax(data):\n",
    "    return jnp.array(data, dtype=jnp.float32)\n",
    "\n",
    "def get_datasets():\n",
    "    \"\"\"Load breast cancer train and test datasets into memory.\"\"\"\n",
    "    X, y = datasets.fetch_california_housing(return_X_y=True)\n",
    "    X_train, X_test, y_train, y_test = train_test_split(X, y, test_size=.2, random_state=42)\n",
    "    \n",
    "    # Normalize\n",
    "    mean = X_train.mean(axis=0)\n",
    "    std = X_train.std(axis=0)\n",
    "    X_train = (X_train - mean) / std\n",
    "    X_test = (X_test - mean) / std\n",
    "    \n",
    "    train_ds = {'X' : to_jax(X_train), 'y' : to_jax(y_train)}\n",
    "    test_ds = {'X' : to_jax(X_test), 'y' : to_jax(y_test)}\n",
    "    return train_ds, test_ds"
   ]
  },
  {
   "cell_type": "code",
   "execution_count": 117,
   "metadata": {},
   "outputs": [],
   "source": [
    "train_ds, test_ds = get_datasets()"
   ]
  },
  {
   "cell_type": "code",
   "execution_count": 126,
   "metadata": {},
   "outputs": [
    {
     "data": {
      "text/plain": [
       "(4128, 8)"
      ]
     },
     "execution_count": 126,
     "metadata": {},
     "output_type": "execute_result"
    }
   ],
   "source": [
    "test_ds['X'].shape"
   ]
  },
  {
   "cell_type": "markdown",
   "metadata": {
    "id": "d0FW1DHa6cfH"
   },
   "source": [
    "\n",
    "## 2. Define network\n",
    "\n",
    "Create a simple MLP neural network with the Linen API by subclassing\n",
    "[`Module`](https://flax.readthedocs.io/en/latest/flax.linen.html#core-module-abstraction).\n",
    "\n",
    "Here, two implementaions are provided: \n",
    "1. Using the [`@compact`](https://flax.readthedocs.io/en/latest/flax.linen.html#compact-methods) decorator. This is a very neat and \"Keras\"-like way of writing it.\n",
    "2. Without `@compact`. Now you have to implement the `setup`-method, but it gives you more flexibility."
   ]
  },
  {
   "cell_type": "code",
   "execution_count": 127,
   "metadata": {},
   "outputs": [],
   "source": [
    "from typing import Sequence\n",
    "\n",
    "class MLPRegressor(nn.Module):\n",
    "    \"\"\"A simple MLP model\"\"\"\n",
    "    @nn.compact\n",
    "    def __call__(self, x):\n",
    "        x = nn.Dense(features=16)(x)\n",
    "        x = nn.relu(x)\n",
    "        x = nn.Dense(features=8)(x)\n",
    "        x = nn.relu(x)\n",
    "        x = nn.Dense(features=4)(x)\n",
    "        x = nn.relu(x)\n",
    "        x = nn.Dense(features=1)(x)\n",
    "        return x"
   ]
  },
  {
   "cell_type": "code",
   "execution_count": 128,
   "metadata": {},
   "outputs": [],
   "source": [
    "class MLPRegressor(nn.Module):\n",
    "    dimensions: Sequence[int]\n",
    "\n",
    "    def setup(self):\n",
    "        self.layers = [nn.Dense(d) for d in self.dimensions]\n",
    "\n",
    "    def __call__(self, inputs):\n",
    "        x = inputs\n",
    "        for i, l in enumerate(self.layers):\n",
    "            x = l(x)\n",
    "            if i != len(self.layers) - 1:\n",
    "                x = nn.relu(x)\n",
    "        return x"
   ]
  },
  {
   "cell_type": "markdown",
   "metadata": {},
   "source": [
    "## 3. Creating training state\n",
    "This makes it much easier in traing as you only need to pass around the TrainState object in training and inference.\n",
    "\n",
    "Because this is such a common pattern, Flax provides the class\n",
    "[flax.training.train_state.TrainState](https://flax.readthedocs.io/en/latest/flax.training.html#train-state)\n",
    "that serves most basic usecases. Usually one would subclass it to add more data\n",
    "to be tracked, but in this example we can use it without any modifications."
   ]
  },
  {
   "cell_type": "code",
   "execution_count": 129,
   "metadata": {
    "id": "2KOCnNJtdfTK"
   },
   "outputs": [],
   "source": [
    "def create_train_state(model, rng, learning_rate, momentum, sample):\n",
    "    params = model.init(rng, jnp.ones(np.shape([sample])))['params']\n",
    "    tx = optax.sgd(learning_rate, momentum)\n",
    "    return train_state.TrainState.create(apply_fn=model.apply, params=params, tx=tx)"
   ]
  },
  {
   "cell_type": "markdown",
   "metadata": {},
   "source": [
    "Simple help-function for visualization"
   ]
  },
  {
   "cell_type": "code",
   "execution_count": 130,
   "metadata": {},
   "outputs": [],
   "source": [
    "def visualize_layers(params):\n",
    "    for layer_params in params.items():\n",
    "        print(\"Layer Name : {}\".format(layer_params[0]))\n",
    "        weights, biases = layer_params[1][\"kernel\"], layer_params[1][\"bias\"]\n",
    "        print(\"\\tLayer Weights : {}, Biases : {}\".format(weights.shape, biases.shape))"
   ]
  },
  {
   "cell_type": "markdown",
   "metadata": {},
   "source": [
    "## 4. Define a predict method\n",
    "Since the output of the model is a sigmoid, it is already a probability. No need for softmax layers like we had with MNIST."
   ]
  },
  {
   "cell_type": "code",
   "execution_count": 131,
   "metadata": {},
   "outputs": [],
   "source": [
    "@jax.jit\n",
    "def predict(state, X):\n",
    "    y_pred = state.apply_fn({'params' : state.params}, X)\n",
    "    return y_pred"
   ]
  },
  {
   "cell_type": "markdown",
   "metadata": {},
   "source": [
    "## 5. Define a loss function and evaluation function\n",
    "We use classic negative log loss"
   ]
  },
  {
   "cell_type": "code",
   "execution_count": 132,
   "metadata": {},
   "outputs": [],
   "source": [
    "def neg_log_loss(preds, labels):\n",
    "    preds = preds.squeeze()\n",
    "    return (-labels * jnp.log(preds) - (1 - labels) * jnp.log(1 - preds)).mean()"
   ]
  },
  {
   "cell_type": "code",
   "execution_count": 133,
   "metadata": {},
   "outputs": [],
   "source": [
    "def mse_loss(preds, labels):\n",
    "    return jnp.power(labels - preds.squeeze(), 2).mean()"
   ]
  },
  {
   "cell_type": "markdown",
   "metadata": {},
   "source": [
    "I tried with  \n",
    "\n",
    "```[0 if pred < 0.5 else 1 for pred in preds] ``` \n",
    "\n",
    "first but it turns out JAX needs to know the sizes of all arrays at compilation time. Therefore,  ```jnp.where() ``` was used.\n",
    "\n",
    "https://jax.readthedocs.io/en/latest/errors.html#jax.errors.ConcretizationTypeError"
   ]
  },
  {
   "cell_type": "code",
   "execution_count": 134,
   "metadata": {
    "id": "KvuEA8Tw-MYa"
   },
   "outputs": [],
   "source": [
    "def compute_metrics(*, preds, labels):\n",
    "    loss = mse_loss(preds=preds, labels=labels)\n",
    "    accuracy = jnp.mean(jnp.where(preds < .5, 0, 1).squeeze() == labels)\n",
    "    metrics = {\n",
    "        'loss': loss\n",
    "    }\n",
    "    return metrics"
   ]
  },
  {
   "cell_type": "code",
   "execution_count": 135,
   "metadata": {
    "id": "w1J9i6alBv_u"
   },
   "outputs": [],
   "source": [
    "@jax.jit\n",
    "def eval_step(state, X, y):\n",
    "    preds = predict(state, X)\n",
    "    return compute_metrics(preds=preds, labels=y)"
   ]
  },
  {
   "cell_type": "markdown",
   "metadata": {},
   "source": [
    "Maybe include loss function in the training state? Would make the compute_metrics-function more general."
   ]
  },
  {
   "cell_type": "markdown",
   "metadata": {
    "id": "W7l-75YE-sr-"
   },
   "source": [
    "## 6. Training step\n",
    "\n",
    "A function that:\n",
    "\n",
    "- Evaluates the neural network given the parameters and a batch of input images\n",
    "  with the\n",
    "  [`Module.apply`](https://flax.readthedocs.io/en/latest/flax.linen.html#flax.linen.Module.apply)\n",
    "  method.\n",
    "- Computes the `neg_log_loss` loss function.\n",
    "- Evaluates the loss function and its gradient using\n",
    "  [`jax.value_and_grad`](https://jax.readthedocs.io/en/latest/jax.html#jax.value_and_grad).\n",
    "- Applies a\n",
    "  [pytree](https://jax.readthedocs.io/en/latest/pytrees.html#pytrees-and-jax-functions)\n",
    "  of gradients to the optimizer to update the model's parameters.\n",
    "- Computes the metrics using `compute_metrics` (defined earlier).\n",
    "\n",
    "Use JAX's [`@jit`](https://jax.readthedocs.io/en/latest/jax.html#jax.jit)\n",
    "decorator to trace the entire `train_step` function and just-in-time compile\n",
    "it with [XLA](https://www.tensorflow.org/xla) into fused device operations\n",
    "that run faster and more efficiently on hardware accelerators."
   ]
  },
  {
   "cell_type": "code",
   "execution_count": 136,
   "metadata": {
    "id": "Ng11cdMf-z0x"
   },
   "outputs": [],
   "source": [
    "@jax.jit\n",
    "def train_step(state, X, y):\n",
    "    \"\"\"Train for a single step.\"\"\"\n",
    "    def loss_fn(params):\n",
    "        preds = state.apply_fn({'params' : params}, X)\n",
    "        loss = mse_loss(preds=preds, labels=y)\n",
    "        return loss, preds\n",
    "    grad_fn = jax.value_and_grad(loss_fn, has_aux=True)\n",
    "    (_, preds), grads = grad_fn(state.params)\n",
    "    state = state.apply_gradients(grads=grads)\n",
    "    metrics = compute_metrics(preds=preds, labels=y)\n",
    "    return state, metrics"
   ]
  },
  {
   "cell_type": "markdown",
   "metadata": {
    "id": "MBTLQPC4BxgH"
   },
   "source": [
    "## 7. Train function\n",
    "\n",
    "Define a training function that:\n",
    "\n",
    "- Shuffles the training data before each epoch using\n",
    "  [`jax.random.permutation`](https://jax.readthedocs.io/en/latest/_autosummary/jax.random.permutation.html)\n",
    "  that takes a PRNGKey as a parameter (check the\n",
    "  [JAX - the sharp bits](https://jax.readthedocs.io/en/latest/notebooks/Common_Gotchas_in_JAX.html#JAX-PRNG)).\n",
    "- Runs an optimization step for each batch.\n",
    "- Retrieves the training metrics from the device with `jax.device_get` and\n",
    "  computes their mean across each batch in an epoch.\n",
    "- Returns the optimizer with updated parameters and the training loss and\n",
    "  accuracy metrics."
   ]
  },
  {
   "cell_type": "code",
   "execution_count": 137,
   "metadata": {
    "id": "7ipyJ-JGCNqP"
   },
   "outputs": [],
   "source": [
    "def train_epoch(state, train_ds, batch_size, epoch, rng):\n",
    "    \"\"\"Train for a single epoch.\"\"\"\n",
    "    train_ds_size = len(train_ds['X'])\n",
    "    steps_per_epoch = train_ds_size // batch_size\n",
    "    \n",
    "    perms = jax.random.permutation(rng, train_ds_size)\n",
    "    perms = perms[:steps_per_epoch * batch_size]  # skip incomplete batch\n",
    "    perms = perms.reshape((steps_per_epoch, batch_size)) # perms are indices \n",
    "    batch_metrics = []\n",
    "    for perm in perms:\n",
    "        batch = {k: v[perm] for k, v in train_ds.items()} # v[perm, ...] ? \n",
    "        \n",
    "        # This updates the state!\n",
    "        state, metrics = train_step(state, X=batch['X'], y=batch['y'])\n",
    "        batch_metrics.append(metrics)\n",
    "\n",
    "    # compute mean of metrics across each batch in epoch.\n",
    "    batch_metrics_np = jax.device_get(batch_metrics)\n",
    "    epoch_metrics_np = {k: np.mean([metrics[k] \n",
    "                        for metrics in batch_metrics_np])\n",
    "                        for k in batch_metrics_np[0]}\n",
    "\n",
    "    return state"
   ]
  },
  {
   "cell_type": "markdown",
   "metadata": {
    "id": "E2cHbVUfCRMv"
   },
   "source": [
    "## 8. Eval function\n",
    "\n",
    "Create a model evaluation function that:\n",
    "\n",
    "- Retrieves the evaluation metrics from the device with `jax.device_get`.\n",
    "- Copies the metrics\n",
    "  [data stored](https://flax.readthedocs.io/en/latest/design_notes/linen_design_principles.html#how-are-parameters-represented-and-how-do-we-handle-general-differentiable-algorithms-that-update-stateful-variables)\n",
    "  in a JAX\n",
    "  [pytree](https://jax.readthedocs.io/en/latest/pytrees.html#pytrees-and-jax-functions)."
   ]
  },
  {
   "cell_type": "code",
   "execution_count": 138,
   "metadata": {
    "id": "_dKahNmMCr5q"
   },
   "outputs": [],
   "source": [
    "def eval_model(state, X, y):\n",
    "    metrics = eval_step(state, X, y)\n",
    "    metrics = jax.device_get(metrics)\n",
    "    summary = jax.tree_map(lambda x: x.item(), metrics)\n",
    "    return summary['loss']"
   ]
  },
  {
   "cell_type": "markdown",
   "metadata": {},
   "source": [
    "## 9. Initialize the model"
   ]
  },
  {
   "cell_type": "code",
   "execution_count": 145,
   "metadata": {},
   "outputs": [
    {
     "name": "stdout",
     "output_type": "stream",
     "text": [
      "Layer Name : layers_0\n",
      "\tLayer Weights : (8, 16), Biases : (16,)\n",
      "Layer Name : layers_1\n",
      "\tLayer Weights : (16, 8), Biases : (8,)\n",
      "Layer Name : layers_2\n",
      "\tLayer Weights : (8, 4), Biases : (4,)\n",
      "Layer Name : layers_3\n",
      "\tLayer Weights : (4, 1), Biases : (1,)\n"
     ]
    }
   ],
   "source": [
    "rng = jax.random.PRNGKey(0)\n",
    "rng, init_rng = jax.random.split(rng)\n",
    "model = MLPRegressor([16,8,4,1])\n",
    "sample = train_ds['X'][0]\n",
    "learning_rate = 0.0001\n",
    "momentum = 0.9\n",
    "num_epochs = 100\n",
    "batch_size = 128\n",
    "\n",
    "# Create Training State\n",
    "state = create_train_state(model, rng, learning_rate, momentum, sample)\n",
    "#del seed\n",
    "\n",
    "# Visualize layers\n",
    "visualize_layers(state.params)"
   ]
  },
  {
   "cell_type": "code",
   "execution_count": 146,
   "metadata": {},
   "outputs": [],
   "source": [
    "X_train = train_ds['X']\n",
    "y_train = train_ds['y']"
   ]
  },
  {
   "cell_type": "code",
   "execution_count": 147,
   "metadata": {},
   "outputs": [],
   "source": [
    "state = train_epoch(state, train_ds, batch_size, epoch=1, rng=rng)"
   ]
  },
  {
   "cell_type": "code",
   "execution_count": 148,
   "metadata": {},
   "outputs": [],
   "source": [
    "y_pred = predict(state, X_train)"
   ]
  },
  {
   "cell_type": "code",
   "execution_count": 149,
   "metadata": {},
   "outputs": [
    {
     "data": {
      "text/plain": [
       "DeviceArray(4.0555077, dtype=float32)"
      ]
     },
     "execution_count": 149,
     "metadata": {},
     "output_type": "execute_result"
    }
   ],
   "source": [
    "mse_loss(y_pred, y_train)"
   ]
  },
  {
   "cell_type": "markdown",
   "metadata": {
    "id": "UqNrWu7kIC9S"
   },
   "source": [
    "## 10. Train and evaluate\n",
    "\n",
    "Once the training and testing is done after 10 epochs, the output should show that your model was able to achieve approximately 99% accuracy."
   ]
  },
  {
   "cell_type": "code",
   "execution_count": 150,
   "metadata": {
    "id": "ugGlV3u6Iq1A"
   },
   "outputs": [
    {
     "name": "stdout",
     "output_type": "stream",
     "text": [
      "epoch: 1   | loss: 2.82406 | val_loss: 2.74745 |\n",
      "epoch: 2   | loss: 2.12478 | val_loss: 2.06187 |\n",
      "epoch: 3   | loss: 1.73974 | val_loss: 1.68698 |\n",
      "epoch: 4   | loss: 1.53397 | val_loss: 1.48911 |\n",
      "epoch: 5   | loss: 1.42925 | val_loss: 1.38987 |\n",
      "epoch: 6   | loss: 1.37640 | val_loss: 1.34094 |\n",
      "epoch: 7   | loss: 1.34821 | val_loss: 1.31531 |\n",
      "epoch: 8   | loss: 1.32991 | val_loss: 1.29884 |\n",
      "epoch: 9   | loss: 1.31678 | val_loss: 1.28694 |\n",
      "epoch: 10  | loss: 1.30540 | val_loss: 1.27628 |\n",
      "epoch: 11  | loss: 1.29500 | val_loss: 1.26629 |\n",
      "epoch: 12  | loss: 1.28469 | val_loss: 1.25616 |\n",
      "epoch: 13  | loss: 1.27379 | val_loss: 1.24536 |\n",
      "epoch: 14  | loss: 1.26187 | val_loss: 1.23351 |\n",
      "epoch: 15  | loss: 1.24857 | val_loss: 1.22025 |\n",
      "epoch: 16  | loss: 1.23355 | val_loss: 1.20516 |\n",
      "epoch: 17  | loss: 1.21642 | val_loss: 1.18787 |\n",
      "epoch: 18  | loss: 1.19654 | val_loss: 1.16778 |\n",
      "epoch: 19  | loss: 1.17271 | val_loss: 1.14378 |\n",
      "epoch: 20  | loss: 1.14334 | val_loss: 1.11401 |\n",
      "epoch: 21  | loss: 1.10877 | val_loss: 1.07892 |\n",
      "epoch: 22  | loss: 1.06875 | val_loss: 1.03841 |\n",
      "epoch: 23  | loss: 1.02330 | val_loss: 0.99271 |\n",
      "epoch: 24  | loss: 0.97248 | val_loss: 0.94221 |\n",
      "epoch: 25  | loss: 0.91824 | val_loss: 0.88906 |\n",
      "epoch: 26  | loss: 0.86386 | val_loss: 0.83697 |\n",
      "epoch: 27  | loss: 0.81135 | val_loss: 0.78665 |\n",
      "epoch: 28  | loss: 0.76541 | val_loss: 0.74295 |\n",
      "epoch: 29  | loss: 0.72754 | val_loss: 0.70786 |\n",
      "epoch: 30  | loss: 0.69821 | val_loss: 0.68082 |\n",
      "epoch: 31  | loss: 0.67717 | val_loss: 0.66284 |\n",
      "epoch: 32  | loss: 0.66177 | val_loss: 0.64976 |\n",
      "epoch: 33  | loss: 0.65022 | val_loss: 0.64077 |\n",
      "epoch: 34  | loss: 0.64129 | val_loss: 0.63383 |\n",
      "epoch: 35  | loss: 0.63405 | val_loss: 0.62817 |\n",
      "epoch: 36  | loss: 0.62782 | val_loss: 0.62341 |\n",
      "epoch: 37  | loss: 0.62233 | val_loss: 0.61900 |\n",
      "epoch: 38  | loss: 0.61721 | val_loss: 0.61499 |\n",
      "epoch: 39  | loss: 0.61265 | val_loss: 0.61132 |\n",
      "epoch: 40  | loss: 0.60829 | val_loss: 0.60771 |\n",
      "epoch: 41  | loss: 0.60413 | val_loss: 0.60418 |\n",
      "epoch: 42  | loss: 0.60012 | val_loss: 0.60078 |\n",
      "epoch: 43  | loss: 0.59637 | val_loss: 0.59745 |\n",
      "epoch: 44  | loss: 0.59268 | val_loss: 0.59426 |\n",
      "epoch: 45  | loss: 0.58920 | val_loss: 0.59112 |\n",
      "epoch: 46  | loss: 0.58578 | val_loss: 0.58810 |\n",
      "epoch: 47  | loss: 0.58254 | val_loss: 0.58512 |\n",
      "epoch: 48  | loss: 0.57938 | val_loss: 0.58221 |\n",
      "epoch: 49  | loss: 0.57633 | val_loss: 0.57944 |\n",
      "epoch: 50  | loss: 0.57335 | val_loss: 0.57675 |\n",
      "epoch: 51  | loss: 0.57040 | val_loss: 0.57395 |\n",
      "epoch: 52  | loss: 0.56753 | val_loss: 0.57136 |\n",
      "epoch: 53  | loss: 0.56467 | val_loss: 0.56877 |\n",
      "epoch: 54  | loss: 0.56188 | val_loss: 0.56612 |\n",
      "epoch: 55  | loss: 0.55904 | val_loss: 0.56356 |\n",
      "epoch: 56  | loss: 0.55628 | val_loss: 0.56104 |\n",
      "epoch: 57  | loss: 0.55352 | val_loss: 0.55840 |\n",
      "epoch: 58  | loss: 0.55072 | val_loss: 0.55578 |\n",
      "epoch: 59  | loss: 0.54798 | val_loss: 0.55330 |\n",
      "epoch: 60  | loss: 0.54525 | val_loss: 0.55080 |\n",
      "epoch: 61  | loss: 0.54254 | val_loss: 0.54835 |\n",
      "epoch: 62  | loss: 0.53981 | val_loss: 0.54584 |\n",
      "epoch: 63  | loss: 0.53705 | val_loss: 0.54346 |\n",
      "epoch: 64  | loss: 0.53440 | val_loss: 0.54109 |\n",
      "epoch: 65  | loss: 0.53167 | val_loss: 0.53873 |\n",
      "epoch: 66  | loss: 0.52891 | val_loss: 0.53631 |\n",
      "epoch: 67  | loss: 0.52626 | val_loss: 0.53392 |\n",
      "epoch: 68  | loss: 0.52374 | val_loss: 0.53158 |\n",
      "epoch: 69  | loss: 0.52119 | val_loss: 0.52934 |\n",
      "epoch: 70  | loss: 0.51848 | val_loss: 0.52719 |\n",
      "epoch: 71  | loss: 0.51570 | val_loss: 0.52501 |\n",
      "epoch: 72  | loss: 0.51317 | val_loss: 0.52297 |\n",
      "epoch: 73  | loss: 0.51072 | val_loss: 0.52101 |\n",
      "epoch: 74  | loss: 0.50828 | val_loss: 0.51916 |\n",
      "epoch: 75  | loss: 0.50589 | val_loss: 0.51722 |\n",
      "epoch: 76  | loss: 0.50363 | val_loss: 0.51544 |\n",
      "epoch: 77  | loss: 0.50149 | val_loss: 0.51385 |\n",
      "epoch: 78  | loss: 0.49941 | val_loss: 0.51210 |\n",
      "epoch: 79  | loss: 0.49740 | val_loss: 0.51038 |\n",
      "epoch: 80  | loss: 0.49541 | val_loss: 0.50879 |\n",
      "epoch: 81  | loss: 0.49342 | val_loss: 0.50723 |\n",
      "epoch: 82  | loss: 0.49154 | val_loss: 0.50565 |\n",
      "epoch: 83  | loss: 0.48974 | val_loss: 0.50415 |\n",
      "epoch: 84  | loss: 0.48799 | val_loss: 0.50271 |\n",
      "epoch: 85  | loss: 0.48639 | val_loss: 0.50116 |\n",
      "epoch: 86  | loss: 0.48457 | val_loss: 0.49980 |\n",
      "epoch: 87  | loss: 0.48282 | val_loss: 0.49813 |\n",
      "epoch: 88  | loss: 0.48122 | val_loss: 0.49680 |\n",
      "epoch: 89  | loss: 0.47961 | val_loss: 0.49535 |\n",
      "epoch: 90  | loss: 0.47806 | val_loss: 0.49389 |\n",
      "epoch: 91  | loss: 0.47654 | val_loss: 0.49254 |\n",
      "epoch: 92  | loss: 0.47502 | val_loss: 0.49107 |\n",
      "epoch: 93  | loss: 0.47358 | val_loss: 0.48975 |\n",
      "epoch: 94  | loss: 0.47213 | val_loss: 0.48847 |\n",
      "epoch: 95  | loss: 0.47073 | val_loss: 0.48723 |\n",
      "epoch: 96  | loss: 0.46944 | val_loss: 0.48594 |\n",
      "epoch: 97  | loss: 0.46807 | val_loss: 0.48475 |\n",
      "epoch: 98  | loss: 0.46680 | val_loss: 0.48345 |\n",
      "epoch: 99  | loss: 0.46559 | val_loss: 0.48219 |\n",
      "epoch: 100 | loss: 0.46443 | val_loss: 0.48110 |\n"
     ]
    }
   ],
   "source": [
    "history = {'loss' : [], 'val_loss' : [], 'epochs' : []}\n",
    "\n",
    "for epoch in range(1, num_epochs + 1):\n",
    "    # Use a separate PRNG key to permute image data during shuffling\n",
    "    rng, input_rng = jax.random.split(rng)\n",
    "    # Run an optimization step over a training batch\n",
    "    state = train_epoch(state, train_ds, batch_size, epoch, input_rng)\n",
    "    # Evaluate on the test set after each training epoch \n",
    "    loss = eval_model(state, X=train_ds['X'], y=train_ds['y'])\n",
    "    val_loss = eval_model(state, X=test_ds['X'], y=test_ds['y'])\n",
    "    history['loss'].append(loss)\n",
    "    history['val_loss'].append(val_loss)\n",
    "    history['epochs'].append(epoch)\n",
    "    if epoch < 10:\n",
    "        print('epoch: {}   | loss: {:.5f} | val_loss: {:.5f} |'.format(epoch, loss, val_loss))\n",
    "    elif epoch < 100:\n",
    "        print('epoch: {}  | loss: {:.5f} | val_loss: {:.5f} |'.format(epoch, loss, val_loss))\n",
    "    else:\n",
    "        print('epoch: {} | loss: {:.5f} | val_loss: {:.5f} |'.format(epoch, loss, val_loss))"
   ]
  },
  {
   "cell_type": "code",
   "execution_count": 151,
   "metadata": {},
   "outputs": [
    {
     "data": {
      "text/plain": [
       "<bound method Module.apply of MLPRegressor(\n",
       "    # attributes\n",
       "    dimensions = [16, 8, 4, 1]\n",
       ")>"
      ]
     },
     "execution_count": 151,
     "metadata": {},
     "output_type": "execute_result"
    }
   ],
   "source": [
    "state.apply_fn"
   ]
  },
  {
   "cell_type": "code",
   "execution_count": 152,
   "metadata": {},
   "outputs": [
    {
     "name": "stdout",
     "output_type": "stream",
     "text": [
      "dict_keys(['step', 'apply_fn', 'params', 'tx', 'opt_state'])\n"
     ]
    }
   ],
   "source": [
    "# apply_fn was defined above to be CNN().apply()\n",
    "print(state.__dict__.keys())"
   ]
  },
  {
   "cell_type": "code",
   "execution_count": 153,
   "metadata": {
    "colab": {
     "base_uri": "https://localhost:8080/"
    },
    "id": "FNTxLXI8kDeK",
    "outputId": "4fd45fad-3454-4ab8-f766-55d5f56b41ec"
   },
   "outputs": [],
   "source": [
    "y_test = test_ds['y']"
   ]
  },
  {
   "cell_type": "code",
   "execution_count": 154,
   "metadata": {
    "colab": {
     "base_uri": "https://localhost:8080/",
     "height": 265
    },
    "id": "giIkry0Ck-zY",
    "outputId": "c987f6e8-af75-47dc-cf00-33b3d01d56c2"
   },
   "outputs": [
    {
     "data": {
      "image/png": "[encoded data removed]",
      "text/plain": [
       "<Figure size 432x288 with 1 Axes>"
      ]
     },
     "metadata": {
      "needs_background": "light"
     },
     "output_type": "display_data"
    }
   ],
   "source": [
    "import matplotlib.pyplot as plt\n",
    "plt.plot(history['epochs'], history['loss'], label='Loss')\n",
    "plt.plot(history['epochs'], history['val_loss'], label='Validation Loss')\n",
    "plt.legend()\n",
    "plt.show()"
   ]
  },
  {
   "cell_type": "code",
   "execution_count": null,
   "metadata": {},
   "outputs": [],
   "source": []
  }
 ],
 "metadata": {
  "accelerator": "GPU",
  "colab": {
   "collapsed_sections": [],
   "name": "Official MNIST FLAX",
   "provenance": []
  },
  "jupytext": {
   "formats": "ipynb,md:myst",
   "main_language": "python"
  },
  "kernelspec": {
   "display_name": "Python 3 (ipykernel)",
   "language": "python",
   "name": "python3"
  },
  "language_info": {
   "codemirror_mode": {
    "name": "ipython",
    "version": 3
   },
   "file_extension": ".py",
   "mimetype": "text/x-python",
   "name": "python",
   "nbconvert_exporter": "python",
   "pygments_lexer": "ipython3",
   "version": "3.9.6"
  }
 },
 "nbformat": 4,
 "nbformat_minor": 1
}
