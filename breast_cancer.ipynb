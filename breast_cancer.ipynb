{
 "cells": [
  {
   "cell_type": "markdown",
   "metadata": {
    "id": "9q9JZjt16AMf"
   },
   "source": [
    "# Classic Supervised Examples in Flax\n",
    "\n",
    "This notebook is based on Flax's official [Annoted MNIST](https://flax.readthedocs.io/en/latest/notebooks/annotated_mnist.html)\n",
    "and [MNIST Example](https://github.com/google/flax/tree/main/examples/mnist).\n",
    "\n",
    "But has been written to be a slightly more general Supervised Classification example. \n",
    "Primarily for educational purposes and reusability in other examples.\n",
    "\n",
    "A really nice thing about this example is the use of the TrainState-object. We are able to bundle many necessary variables and functions with this object and can simply pass that around to our different functions. "
   ]
  },
  {
   "cell_type": "markdown",
   "metadata": {
    "id": "VSaA8Mif6srP"
   },
   "source": [
    "## Imports\n",
    "\n",
    "Import JAX, [JAX NumPy](https://jax.readthedocs.io/en/latest/jax.numpy.html),\n",
    "Flax, ordinary NumPy, and TensorFlow Datasets (TFDS). Flax can use any\n",
    "data-loading pipeline and this example demonstrates how to utilize TFDS."
   ]
  },
  {
   "cell_type": "code",
   "execution_count": 536,
   "metadata": {
    "id": "Z7MuGFB16E8m"
   },
   "outputs": [],
   "source": [
    "import jax\n",
    "import jax.numpy as jnp                # JAX NumPy\n",
    "\n",
    "from flax import linen as nn           # The Linen API\n",
    "from flax.training import train_state  # Useful dataclass to keep train state\n",
    "\n",
    "import numpy as np                     # Ordinary NumPy\n",
    "import optax                           # Optimizers\n",
    "import tensorflow_datasets as tfds     # TFDS for MNIST\n",
    "from ipywidgets import IntProgress"
   ]
  },
  {
   "cell_type": "code",
   "execution_count": 537,
   "metadata": {},
   "outputs": [
    {
     "name": "stdout",
     "output_type": "stream",
     "text": [
      "Enabling notebook extension jupyter-js-widgets/extension...\r\n",
      "      - Validating: \u001b[32mOK\u001b[0m\r\n"
     ]
    }
   ],
   "source": [
    "!jupyter nbextension enable --py widgetsnbextension"
   ]
  },
  {
   "cell_type": "code",
   "execution_count": 538,
   "metadata": {
    "id": "AuaRYtsKmHlm"
   },
   "outputs": [
    {
     "data": {
      "text/plain": [
       "[<jaxlib.xla_extension.Device at 0x7faed893a8b0>]"
      ]
     },
     "execution_count": 538,
     "metadata": {},
     "output_type": "execute_result"
    }
   ],
   "source": [
    "jax.devices()"
   ]
  },
  {
   "cell_type": "markdown",
   "metadata": {},
   "source": [
    "## 1. Dataset - Breast Cancer binary Classification"
   ]
  },
  {
   "cell_type": "code",
   "execution_count": 539,
   "metadata": {
    "id": "IOeWiS_b-p8O"
   },
   "outputs": [],
   "source": [
    "from sklearn import datasets\n",
    "from sklearn.model_selection import train_test_split\n",
    "from jax import numpy as jnp\n",
    "\n",
    "def to_jax(data):\n",
    "    return jnp.array(data, dtype=jnp.float32)\n",
    "\n",
    "def get_datasets():\n",
    "    \"\"\"Load breast cancer train and test datasets into memory.\"\"\"\n",
    "    X, y = datasets.load_breast_cancer(return_X_y=True)\n",
    "    X_train, X_test, y_train, y_test = train_test_split(X, y, test_size=.2, random_state=42)\n",
    "    \n",
    "    # Normalize\n",
    "    mean = X_train.mean(axis=0)\n",
    "    std = X_train.std(axis=0)\n",
    "    X_train = (X_train - mean) / std\n",
    "    X_test = (X_test - mean) / std\n",
    "    \n",
    "    train_ds = {'X' : to_jax(X_train), 'y' : to_jax(y_train)}\n",
    "    test_ds = {'X' : to_jax(X_test), 'y' : to_jax(y_test)}\n",
    "    return train_ds, test_ds"
   ]
  },
  {
   "cell_type": "code",
   "execution_count": 540,
   "metadata": {},
   "outputs": [],
   "source": [
    "train_ds, test_ds = get_datasets()"
   ]
  },
  {
   "cell_type": "markdown",
   "metadata": {
    "id": "d0FW1DHa6cfH"
   },
   "source": [
    "\n",
    "## 2. Define network\n",
    "\n",
    "Create a simple MLP neural network with the Linen API by subclassing\n",
    "[`Module`](https://flax.readthedocs.io/en/latest/flax.linen.html#core-module-abstraction). The `nn.Module` is an instance of a Python Dataclass.\n",
    "\n",
    "Here, two implementaions are provided: \n",
    "1. Using the [`@compact`](https://flax.readthedocs.io/en/latest/flax.linen.html#compact-methods) decorator. This is a very neat and \"Keras\"-like way of writing it.\n",
    "2. Without `@compact`. Now you have to implement the `setup`-method, but it gives you more flexibility.\n",
    "3. With `@compact` but still including the flexibility of 2."
   ]
  },
  {
   "cell_type": "code",
   "execution_count": 541,
   "metadata": {},
   "outputs": [],
   "source": [
    "from typing import Sequence\n",
    "\n",
    "class MLPClassifier(nn.Module):\n",
    "    \"\"\"A simple MLP model\"\"\"\n",
    "    @nn.compact\n",
    "    def __call__(self, x):\n",
    "        x = nn.Dense(features=16)(x)\n",
    "        x = nn.relu(x)\n",
    "        x = nn.Dense(features=8)(x)\n",
    "        x = nn.relu(x)\n",
    "        x = nn.Dense(features=4)(x)\n",
    "        x = nn.relu(x)\n",
    "        x = nn.Dense(features=1)(x)\n",
    "        x = nn.sigmoid(x)\n",
    "        return x"
   ]
  },
  {
   "cell_type": "code",
   "execution_count": 542,
   "metadata": {},
   "outputs": [],
   "source": [
    "class MLPClassifier(nn.Module):\n",
    "    dimensions: Sequence[int]\n",
    "\n",
    "    def setup(self):\n",
    "        self.layers = [nn.Dense(d) for d in self.dimensions]\n",
    "\n",
    "    def __call__(self, inputs):\n",
    "        x = inputs\n",
    "        for i, l in enumerate(self.layers):\n",
    "            x = l(x)\n",
    "            if i != len(self.layers) - 1:\n",
    "                x = nn.relu(x)\n",
    "        return nn.sigmoid(x)"
   ]
  },
  {
   "cell_type": "code",
   "execution_count": 554,
   "metadata": {},
   "outputs": [],
   "source": [
    "class MLPClassifier(nn.Module):\n",
    "    dimensions: Sequence[int]\n",
    "        \n",
    "    @nn.compact\n",
    "    def __call__(self, inputs):\n",
    "        x = inputs\n",
    "        for i, d in enumerate(self.dimensions):\n",
    "            x = nn.Dense(d)(x)\n",
    "            if i != len(self.dimensions) - 1:\n",
    "                x = nn.relu(x)\n",
    "        return nn.sigmoid(x)"
   ]
  },
  {
   "cell_type": "markdown",
   "metadata": {},
   "source": [
    "## 3. Creating training state\n",
    "This makes it much easier in traing as you only need to pass around the TrainState object in training and inference.\n",
    "\n",
    "Because this is such a common pattern, Flax provides the class\n",
    "[flax.training.train_state.TrainState](https://flax.readthedocs.io/en/latest/flax.training.html#train-state)\n",
    "that serves most basic usecases. Usually one would subclass it to add more data\n",
    "to be tracked, but in this example we can use it without any modifications."
   ]
  },
  {
   "cell_type": "code",
   "execution_count": 544,
   "metadata": {
    "id": "2KOCnNJtdfTK"
   },
   "outputs": [],
   "source": [
    "def create_train_state(model, rng, learning_rate, momentum, sample):\n",
    "    params = model.init(rng, jnp.ones(np.shape([sample])))['params']\n",
    "    tx = optax.sgd(learning_rate, momentum)\n",
    "    return train_state.TrainState.create(apply_fn=model.apply, params=params, tx=tx)"
   ]
  },
  {
   "cell_type": "markdown",
   "metadata": {},
   "source": [
    "Simple help-function for visualization"
   ]
  },
  {
   "cell_type": "code",
   "execution_count": 545,
   "metadata": {},
   "outputs": [],
   "source": [
    "def visualize_layers(params):\n",
    "    for layer_params in params.items():\n",
    "        print(\"Layer Name : {}\".format(layer_params[0]))\n",
    "        weights, biases = layer_params[1][\"kernel\"], layer_params[1][\"bias\"]\n",
    "        print(\"\\tLayer Weights : {}, Biases : {}\".format(weights.shape, biases.shape))"
   ]
  },
  {
   "cell_type": "markdown",
   "metadata": {},
   "source": [
    "## 4. Define a predict method\n",
    "Since the output of the model is a sigmoid, it is already a probability. No need for softmax layers like we had with MNIST."
   ]
  },
  {
   "cell_type": "code",
   "execution_count": 546,
   "metadata": {},
   "outputs": [],
   "source": [
    "@jax.jit\n",
    "def predict(state, X):\n",
    "    y_pred = state.apply_fn({'params' : state.params}, X)\n",
    "    return y_pred"
   ]
  },
  {
   "cell_type": "markdown",
   "metadata": {},
   "source": [
    "## 5. Define a loss function and evaluation function\n",
    "We use classic negative log loss"
   ]
  },
  {
   "cell_type": "code",
   "execution_count": 547,
   "metadata": {},
   "outputs": [],
   "source": [
    "def neg_log_loss(preds, labels):\n",
    "    preds = preds.squeeze()\n",
    "    return (-labels * jnp.log(preds) - (1 - labels) * jnp.log(1 - preds)).mean()"
   ]
  },
  {
   "cell_type": "markdown",
   "metadata": {},
   "source": [
    "I tried with  \n",
    "\n",
    "```[0 if pred < 0.5 else 1 for pred in preds] ``` \n",
    "\n",
    "first but it turns out JAX needs to know the sizes of all arrays at compilation time. Therefore,  ```jnp.where() ``` was used.\n",
    "\n",
    "https://jax.readthedocs.io/en/latest/errors.html#jax.errors.ConcretizationTypeError"
   ]
  },
  {
   "cell_type": "code",
   "execution_count": 548,
   "metadata": {
    "id": "KvuEA8Tw-MYa"
   },
   "outputs": [],
   "source": [
    "def compute_metrics(*, preds, labels):\n",
    "    loss = neg_log_loss(preds=preds, labels=labels)\n",
    "    accuracy = jnp.mean(jnp.where(preds < .5, 0, 1).squeeze() == labels)\n",
    "    metrics = {\n",
    "        'loss': loss,\n",
    "        'accuracy' : accuracy\n",
    "    }\n",
    "    return metrics"
   ]
  },
  {
   "cell_type": "code",
   "execution_count": 549,
   "metadata": {
    "id": "w1J9i6alBv_u"
   },
   "outputs": [],
   "source": [
    "@jax.jit\n",
    "def eval_step(state, X, y):\n",
    "    preds = predict(state, X)\n",
    "    return compute_metrics(preds=preds, labels=y)"
   ]
  },
  {
   "cell_type": "markdown",
   "metadata": {},
   "source": [
    "Maybe include loss function in the training state? Would make the compute_metrics-function more general."
   ]
  },
  {
   "cell_type": "markdown",
   "metadata": {
    "id": "W7l-75YE-sr-"
   },
   "source": [
    "## 6. Training step\n",
    "\n",
    "A function that:\n",
    "\n",
    "- Evaluates the neural network given the parameters and a batch of input images\n",
    "  with the\n",
    "  [`Module.apply`](https://flax.readthedocs.io/en/latest/flax.linen.html#flax.linen.Module.apply)\n",
    "  method.\n",
    "- Computes the `neg_log_loss` loss function.\n",
    "- Evaluates the loss function and its gradient using\n",
    "  [`jax.value_and_grad`](https://jax.readthedocs.io/en/latest/jax.html#jax.value_and_grad).\n",
    "- Applies a\n",
    "  [pytree](https://jax.readthedocs.io/en/latest/pytrees.html#pytrees-and-jax-functions)\n",
    "  of gradients to the optimizer to update the model's parameters.\n",
    "- Computes the metrics using `compute_metrics` (defined earlier).\n",
    "\n",
    "Use JAX's [`@jit`](https://jax.readthedocs.io/en/latest/jax.html#jax.jit)\n",
    "decorator to trace the entire `train_step` function and just-in-time compile\n",
    "it with [XLA](https://www.tensorflow.org/xla) into fused device operations\n",
    "that run faster and more efficiently on hardware accelerators."
   ]
  },
  {
   "cell_type": "code",
   "execution_count": 550,
   "metadata": {
    "id": "Ng11cdMf-z0x"
   },
   "outputs": [],
   "source": [
    "@jax.jit\n",
    "def train_step(state, X, y):\n",
    "    \"\"\"Train for a single step.\"\"\"\n",
    "    def loss_fn(params):\n",
    "        preds = state.apply_fn({'params' : params}, X)\n",
    "        loss = neg_log_loss(preds=preds, labels=y)\n",
    "        return loss, preds\n",
    "    grad_fn = jax.value_and_grad(loss_fn, has_aux=True)\n",
    "    (_, preds), grads = grad_fn(state.params)\n",
    "    state = state.apply_gradients(grads=grads)\n",
    "    metrics = compute_metrics(preds=preds, labels=y)\n",
    "    return state, metrics"
   ]
  },
  {
   "cell_type": "markdown",
   "metadata": {
    "id": "MBTLQPC4BxgH"
   },
   "source": [
    "## 7. Train function\n",
    "\n",
    "Define a training function that:\n",
    "\n",
    "- Shuffles the training data before each epoch using\n",
    "  [`jax.random.permutation`](https://jax.readthedocs.io/en/latest/_autosummary/jax.random.permutation.html)\n",
    "  that takes a PRNGKey as a parameter (check the\n",
    "  [JAX - the sharp bits](https://jax.readthedocs.io/en/latest/notebooks/Common_Gotchas_in_JAX.html#JAX-PRNG)).\n",
    "- Runs an optimization step for each batch.\n",
    "- Retrieves the training metrics from the device with `jax.device_get` and\n",
    "  computes their mean across each batch in an epoch.\n",
    "- Returns the optimizer with updated parameters and the training loss and\n",
    "  accuracy metrics."
   ]
  },
  {
   "cell_type": "code",
   "execution_count": 551,
   "metadata": {
    "id": "7ipyJ-JGCNqP"
   },
   "outputs": [],
   "source": [
    "def train_epoch(state, train_ds, batch_size, epoch, rng):\n",
    "    \"\"\"Train for a single epoch.\"\"\"\n",
    "    train_ds_size = len(train_ds['X'])\n",
    "    steps_per_epoch = train_ds_size // batch_size\n",
    "    \n",
    "    perms = jax.random.permutation(rng, train_ds_size)\n",
    "    perms = perms[:steps_per_epoch * batch_size]  # skip incomplete batch\n",
    "    perms = perms.reshape((steps_per_epoch, batch_size)) # perms are indices \n",
    "    batch_metrics = []\n",
    "    for perm in perms:\n",
    "        batch = {k: v[perm] for k, v in train_ds.items()} # v[perm, ...] ? \n",
    "        \n",
    "        # This updates the state!\n",
    "        state, metrics = train_step(state, X=batch['X'], y=batch['y'])\n",
    "        batch_metrics.append(metrics)\n",
    "\n",
    "    # compute mean of metrics across each batch in epoch.\n",
    "    batch_metrics_np = jax.device_get(batch_metrics)\n",
    "    epoch_metrics_np = {k: np.mean([metrics[k] \n",
    "                        for metrics in batch_metrics_np])\n",
    "                        for k in batch_metrics_np[0]}\n",
    "\n",
    "    return state"
   ]
  },
  {
   "cell_type": "markdown",
   "metadata": {
    "id": "E2cHbVUfCRMv"
   },
   "source": [
    "## 8. Eval function\n",
    "\n",
    "Create a model evaluation function that:\n",
    "\n",
    "- Retrieves the evaluation metrics from the device with `jax.device_get`.\n",
    "- Copies the metrics\n",
    "  [data stored](https://flax.readthedocs.io/en/latest/design_notes/linen_design_principles.html#how-are-parameters-represented-and-how-do-we-handle-general-differentiable-algorithms-that-update-stateful-variables)\n",
    "  in a JAX\n",
    "  [pytree](https://jax.readthedocs.io/en/latest/pytrees.html#pytrees-and-jax-functions)."
   ]
  },
  {
   "cell_type": "code",
   "execution_count": 552,
   "metadata": {
    "id": "_dKahNmMCr5q"
   },
   "outputs": [],
   "source": [
    "def eval_model(state, X, y):\n",
    "    metrics = eval_step(state, X, y)\n",
    "    metrics = jax.device_get(metrics)\n",
    "    summary = jax.tree_map(lambda x: x.item(), metrics)\n",
    "    return summary['loss'], summary['accuracy']"
   ]
  },
  {
   "cell_type": "markdown",
   "metadata": {},
   "source": [
    "## 9. Initialize the model"
   ]
  },
  {
   "cell_type": "code",
   "execution_count": 556,
   "metadata": {},
   "outputs": [
    {
     "name": "stdout",
     "output_type": "stream",
     "text": [
      "FrozenDict({\n",
      "    Dense_0: {\n",
      "        bias: (16,),\n",
      "        kernel: (30, 16),\n",
      "    },\n",
      "    Dense_1: {\n",
      "        bias: (8,),\n",
      "        kernel: (16, 8),\n",
      "    },\n",
      "    Dense_2: {\n",
      "        bias: (4,),\n",
      "        kernel: (8, 4),\n",
      "    },\n",
      "    Dense_3: {\n",
      "        bias: (1,),\n",
      "        kernel: (4, 1),\n",
      "    },\n",
      "})\n"
     ]
    }
   ],
   "source": [
    "rng = jax.random.PRNGKey(0)\n",
    "rng, init_rng = jax.random.split(rng)\n",
    "model = MLPClassifier([16,8,4,1])\n",
    "sample = train_ds['X'][0]\n",
    "learning_rate = 0.001\n",
    "momentum = 0.7\n",
    "\n",
    "# Create Training State\n",
    "state = create_train_state(model, rng, learning_rate, momentum, sample)\n",
    "#del seed\n",
    "\n",
    "# Visualize layers\n",
    "#visualize_layers(state.params)\n",
    "print(jax.tree_map(jnp.shape, state.params))"
   ]
  },
  {
   "cell_type": "code",
   "execution_count": 557,
   "metadata": {},
   "outputs": [],
   "source": [
    "X_train = train_ds['X']\n",
    "y_train = train_ds['y']"
   ]
  },
  {
   "cell_type": "code",
   "execution_count": 558,
   "metadata": {},
   "outputs": [],
   "source": [
    "state = train_epoch(state, train_ds, batch_size, epoch=1, rng=rng)"
   ]
  },
  {
   "cell_type": "code",
   "execution_count": 559,
   "metadata": {},
   "outputs": [],
   "source": [
    "y_pred = predict(state, X_train)"
   ]
  },
  {
   "cell_type": "code",
   "execution_count": 560,
   "metadata": {},
   "outputs": [
    {
     "data": {
      "text/plain": [
       "DeviceArray(0.68361896, dtype=float32)"
      ]
     },
     "execution_count": 560,
     "metadata": {},
     "output_type": "execute_result"
    }
   ],
   "source": [
    "neg_log_loss(y_pred, y_train)"
   ]
  },
  {
   "cell_type": "markdown",
   "metadata": {
    "id": "UqNrWu7kIC9S"
   },
   "source": [
    "## 10. Train and evaluate\n",
    "\n",
    "Once the training and testing is done after 10 epochs, the output should show that your model was able to achieve approximately 99% accuracy."
   ]
  },
  {
   "cell_type": "code",
   "execution_count": 561,
   "metadata": {
    "id": "0nxgS5Z5IsT_"
   },
   "outputs": [],
   "source": [
    "num_epochs = 100\n",
    "batch_size = 8"
   ]
  },
  {
   "cell_type": "code",
   "execution_count": 562,
   "metadata": {
    "id": "ugGlV3u6Iq1A"
   },
   "outputs": [
    {
     "name": "stdout",
     "output_type": "stream",
     "text": [
      "epoch: 1 | loss: 0.67734 | val_loss: 0.68080 | accuracy: 62.64 | val_accuracy 59.65 |\n",
      "epoch: 2 | loss: 0.67042 | val_loss: 0.67634 | accuracy: 64.62 | val_accuracy 60.53 |\n",
      "epoch: 3 | loss: 0.66205 | val_loss: 0.67088 | accuracy: 68.13 | val_accuracy 61.40 |\n",
      "epoch: 4 | loss: 0.65012 | val_loss: 0.66392 | accuracy: 70.55 | val_accuracy 64.91 |\n",
      "epoch: 5 | loss: 0.63356 | val_loss: 0.65135 | accuracy: 72.75 | val_accuracy 68.42 |\n",
      "epoch: 6 | loss: 0.61199 | val_loss: 0.63346 | accuracy: 76.70 | val_accuracy 71.05 |\n",
      "epoch: 7 | loss: 0.58847 | val_loss: 0.61043 | accuracy: 79.12 | val_accuracy 75.44 |\n",
      "epoch: 8 | loss: 0.55805 | val_loss: 0.57882 | accuracy: 81.54 | val_accuracy 78.07 |\n",
      "epoch: 9 | loss: 0.52563 | val_loss: 0.54642 | accuracy: 84.18 | val_accuracy 79.82 |\n",
      "epoch: 10 | loss: 0.49186 | val_loss: 0.51445 | accuracy: 87.47 | val_accuracy 83.33 |\n",
      "epoch: 11 | loss: 0.45997 | val_loss: 0.48399 | accuracy: 89.23 | val_accuracy 85.96 |\n",
      "epoch: 12 | loss: 0.43100 | val_loss: 0.45619 | accuracy: 89.67 | val_accuracy 87.72 |\n",
      "epoch: 13 | loss: 0.40294 | val_loss: 0.42895 | accuracy: 90.33 | val_accuracy 89.47 |\n",
      "epoch: 14 | loss: 0.37667 | val_loss: 0.40315 | accuracy: 91.65 | val_accuracy 89.47 |\n",
      "epoch: 15 | loss: 0.35076 | val_loss: 0.37751 | accuracy: 92.53 | val_accuracy 92.11 |\n",
      "epoch: 16 | loss: 0.32604 | val_loss: 0.35190 | accuracy: 92.75 | val_accuracy 92.98 |\n",
      "epoch: 17 | loss: 0.30193 | val_loss: 0.32670 | accuracy: 93.41 | val_accuracy 92.98 |\n",
      "epoch: 18 | loss: 0.27921 | val_loss: 0.30262 | accuracy: 93.63 | val_accuracy 93.86 |\n",
      "epoch: 19 | loss: 0.25837 | val_loss: 0.28026 | accuracy: 93.63 | val_accuracy 94.74 |\n",
      "epoch: 20 | loss: 0.23963 | val_loss: 0.26010 | accuracy: 93.85 | val_accuracy 94.74 |\n",
      "epoch: 21 | loss: 0.22241 | val_loss: 0.24139 | accuracy: 94.51 | val_accuracy 94.74 |\n",
      "epoch: 22 | loss: 0.20723 | val_loss: 0.22503 | accuracy: 94.51 | val_accuracy 94.74 |\n",
      "epoch: 23 | loss: 0.19402 | val_loss: 0.21063 | accuracy: 94.73 | val_accuracy 95.61 |\n",
      "epoch: 24 | loss: 0.18203 | val_loss: 0.19765 | accuracy: 95.16 | val_accuracy 95.61 |\n",
      "epoch: 25 | loss: 0.17175 | val_loss: 0.18648 | accuracy: 95.16 | val_accuracy 95.61 |\n",
      "epoch: 26 | loss: 0.16293 | val_loss: 0.17671 | accuracy: 95.38 | val_accuracy 95.61 |\n",
      "epoch: 27 | loss: 0.15510 | val_loss: 0.16798 | accuracy: 95.60 | val_accuracy 95.61 |\n",
      "epoch: 28 | loss: 0.14834 | val_loss: 0.16062 | accuracy: 96.04 | val_accuracy 95.61 |\n",
      "epoch: 29 | loss: 0.14219 | val_loss: 0.15400 | accuracy: 96.48 | val_accuracy 96.49 |\n",
      "epoch: 30 | loss: 0.13675 | val_loss: 0.14836 | accuracy: 96.48 | val_accuracy 96.49 |\n",
      "epoch: 31 | loss: 0.13182 | val_loss: 0.14336 | accuracy: 96.48 | val_accuracy 96.49 |\n",
      "epoch: 32 | loss: 0.12737 | val_loss: 0.13896 | accuracy: 96.70 | val_accuracy 96.49 |\n",
      "epoch: 33 | loss: 0.12331 | val_loss: 0.13501 | accuracy: 96.70 | val_accuracy 96.49 |\n",
      "epoch: 34 | loss: 0.11947 | val_loss: 0.13161 | accuracy: 96.70 | val_accuracy 96.49 |\n",
      "epoch: 35 | loss: 0.11583 | val_loss: 0.12837 | accuracy: 96.70 | val_accuracy 96.49 |\n",
      "epoch: 36 | loss: 0.11254 | val_loss: 0.12557 | accuracy: 96.70 | val_accuracy 96.49 |\n",
      "epoch: 37 | loss: 0.10945 | val_loss: 0.12291 | accuracy: 96.92 | val_accuracy 96.49 |\n",
      "epoch: 38 | loss: 0.10666 | val_loss: 0.12061 | accuracy: 96.92 | val_accuracy 96.49 |\n",
      "epoch: 39 | loss: 0.10396 | val_loss: 0.11843 | accuracy: 96.92 | val_accuracy 96.49 |\n",
      "epoch: 40 | loss: 0.10141 | val_loss: 0.11662 | accuracy: 97.14 | val_accuracy 96.49 |\n",
      "epoch: 41 | loss: 0.09905 | val_loss: 0.11480 | accuracy: 97.14 | val_accuracy 97.37 |\n",
      "epoch: 42 | loss: 0.09675 | val_loss: 0.11299 | accuracy: 97.14 | val_accuracy 97.37 |\n",
      "epoch: 43 | loss: 0.09460 | val_loss: 0.11139 | accuracy: 97.14 | val_accuracy 97.37 |\n",
      "epoch: 44 | loss: 0.09259 | val_loss: 0.10978 | accuracy: 97.14 | val_accuracy 97.37 |\n",
      "epoch: 45 | loss: 0.09065 | val_loss: 0.10850 | accuracy: 97.14 | val_accuracy 97.37 |\n",
      "epoch: 46 | loss: 0.08884 | val_loss: 0.10708 | accuracy: 97.36 | val_accuracy 97.37 |\n",
      "epoch: 47 | loss: 0.08717 | val_loss: 0.10599 | accuracy: 97.36 | val_accuracy 97.37 |\n",
      "epoch: 48 | loss: 0.08552 | val_loss: 0.10485 | accuracy: 97.36 | val_accuracy 97.37 |\n",
      "epoch: 49 | loss: 0.08399 | val_loss: 0.10375 | accuracy: 97.36 | val_accuracy 97.37 |\n",
      "epoch: 50 | loss: 0.08253 | val_loss: 0.10274 | accuracy: 97.36 | val_accuracy 97.37 |\n",
      "epoch: 51 | loss: 0.08109 | val_loss: 0.10214 | accuracy: 97.36 | val_accuracy 97.37 |\n",
      "epoch: 52 | loss: 0.07974 | val_loss: 0.10128 | accuracy: 97.36 | val_accuracy 97.37 |\n",
      "epoch: 53 | loss: 0.07848 | val_loss: 0.10061 | accuracy: 97.36 | val_accuracy 97.37 |\n",
      "epoch: 54 | loss: 0.07728 | val_loss: 0.09980 | accuracy: 97.36 | val_accuracy 97.37 |\n",
      "epoch: 55 | loss: 0.07612 | val_loss: 0.09934 | accuracy: 97.36 | val_accuracy 97.37 |\n",
      "epoch: 56 | loss: 0.07500 | val_loss: 0.09863 | accuracy: 97.36 | val_accuracy 97.37 |\n",
      "epoch: 57 | loss: 0.07393 | val_loss: 0.09797 | accuracy: 97.36 | val_accuracy 97.37 |\n",
      "epoch: 58 | loss: 0.07293 | val_loss: 0.09746 | accuracy: 97.58 | val_accuracy 97.37 |\n",
      "epoch: 59 | loss: 0.07193 | val_loss: 0.09667 | accuracy: 97.58 | val_accuracy 97.37 |\n",
      "epoch: 60 | loss: 0.07093 | val_loss: 0.09629 | accuracy: 97.58 | val_accuracy 97.37 |\n",
      "epoch: 61 | loss: 0.07000 | val_loss: 0.09585 | accuracy: 97.80 | val_accuracy 96.49 |\n",
      "epoch: 62 | loss: 0.06915 | val_loss: 0.09540 | accuracy: 98.02 | val_accuracy 96.49 |\n",
      "epoch: 63 | loss: 0.06826 | val_loss: 0.09486 | accuracy: 98.02 | val_accuracy 96.49 |\n",
      "epoch: 64 | loss: 0.06745 | val_loss: 0.09438 | accuracy: 98.02 | val_accuracy 96.49 |\n",
      "epoch: 65 | loss: 0.06666 | val_loss: 0.09396 | accuracy: 98.02 | val_accuracy 96.49 |\n",
      "epoch: 66 | loss: 0.06595 | val_loss: 0.09356 | accuracy: 98.24 | val_accuracy 96.49 |\n",
      "epoch: 67 | loss: 0.06523 | val_loss: 0.09312 | accuracy: 98.24 | val_accuracy 96.49 |\n",
      "epoch: 68 | loss: 0.06452 | val_loss: 0.09279 | accuracy: 98.24 | val_accuracy 96.49 |\n",
      "epoch: 69 | loss: 0.06385 | val_loss: 0.09256 | accuracy: 98.24 | val_accuracy 96.49 |\n",
      "epoch: 70 | loss: 0.06323 | val_loss: 0.09219 | accuracy: 98.24 | val_accuracy 96.49 |\n",
      "epoch: 71 | loss: 0.06258 | val_loss: 0.09195 | accuracy: 98.46 | val_accuracy 96.49 |\n",
      "epoch: 72 | loss: 0.06196 | val_loss: 0.09162 | accuracy: 98.46 | val_accuracy 96.49 |\n",
      "epoch: 73 | loss: 0.06140 | val_loss: 0.09124 | accuracy: 98.46 | val_accuracy 96.49 |\n",
      "epoch: 74 | loss: 0.06083 | val_loss: 0.09110 | accuracy: 98.46 | val_accuracy 96.49 |\n",
      "epoch: 75 | loss: 0.06031 | val_loss: 0.09072 | accuracy: 98.46 | val_accuracy 96.49 |\n",
      "epoch: 76 | loss: 0.05980 | val_loss: 0.09047 | accuracy: 98.46 | val_accuracy 97.37 |\n",
      "epoch: 77 | loss: 0.05930 | val_loss: 0.09026 | accuracy: 98.46 | val_accuracy 97.37 |\n",
      "epoch: 78 | loss: 0.05880 | val_loss: 0.09015 | accuracy: 98.46 | val_accuracy 97.37 |\n",
      "epoch: 79 | loss: 0.05831 | val_loss: 0.08985 | accuracy: 98.46 | val_accuracy 97.37 |\n",
      "epoch: 80 | loss: 0.05784 | val_loss: 0.08964 | accuracy: 98.68 | val_accuracy 97.37 |\n",
      "epoch: 81 | loss: 0.05739 | val_loss: 0.08939 | accuracy: 98.68 | val_accuracy 97.37 |\n",
      "epoch: 82 | loss: 0.05696 | val_loss: 0.08925 | accuracy: 98.68 | val_accuracy 97.37 |\n",
      "epoch: 83 | loss: 0.05653 | val_loss: 0.08887 | accuracy: 98.68 | val_accuracy 97.37 |\n",
      "epoch: 84 | loss: 0.05610 | val_loss: 0.08864 | accuracy: 98.68 | val_accuracy 97.37 |\n",
      "epoch: 85 | loss: 0.05565 | val_loss: 0.08859 | accuracy: 98.68 | val_accuracy 97.37 |\n",
      "epoch: 86 | loss: 0.05522 | val_loss: 0.08829 | accuracy: 98.90 | val_accuracy 97.37 |\n",
      "epoch: 87 | loss: 0.05481 | val_loss: 0.08824 | accuracy: 98.90 | val_accuracy 97.37 |\n",
      "epoch: 88 | loss: 0.05441 | val_loss: 0.08803 | accuracy: 98.90 | val_accuracy 97.37 |\n",
      "epoch: 89 | loss: 0.05400 | val_loss: 0.08791 | accuracy: 98.90 | val_accuracy 97.37 |\n",
      "epoch: 90 | loss: 0.05359 | val_loss: 0.08786 | accuracy: 98.90 | val_accuracy 97.37 |\n",
      "epoch: 91 | loss: 0.05316 | val_loss: 0.08781 | accuracy: 98.90 | val_accuracy 97.37 |\n",
      "epoch: 92 | loss: 0.05278 | val_loss: 0.08769 | accuracy: 98.90 | val_accuracy 97.37 |\n",
      "epoch: 93 | loss: 0.05244 | val_loss: 0.08723 | accuracy: 98.90 | val_accuracy 97.37 |\n",
      "epoch: 94 | loss: 0.05208 | val_loss: 0.08731 | accuracy: 98.90 | val_accuracy 97.37 |\n",
      "epoch: 95 | loss: 0.05173 | val_loss: 0.08746 | accuracy: 98.90 | val_accuracy 97.37 |\n"
     ]
    },
    {
     "name": "stdout",
     "output_type": "stream",
     "text": [
      "epoch: 96 | loss: 0.05138 | val_loss: 0.08729 | accuracy: 98.90 | val_accuracy 97.37 |\n",
      "epoch: 97 | loss: 0.05104 | val_loss: 0.08728 | accuracy: 98.90 | val_accuracy 97.37 |\n",
      "epoch: 98 | loss: 0.05075 | val_loss: 0.08765 | accuracy: 98.90 | val_accuracy 97.37 |\n",
      "epoch: 99 | loss: 0.05042 | val_loss: 0.08760 | accuracy: 98.90 | val_accuracy 97.37 |\n",
      "epoch: 100 | loss: 0.05014 | val_loss: 0.08784 | accuracy: 98.90 | val_accuracy 97.37 |\n"
     ]
    }
   ],
   "source": [
    "history = {'loss' : [], 'val_loss' : [], 'epochs' : [], 'accuracy' : [], 'val_accuracy' : []}\n",
    "\n",
    "for epoch in range(1, num_epochs + 1):\n",
    "    # Use a separate PRNG key to permute image data during shuffling\n",
    "    rng, input_rng = jax.random.split(rng)\n",
    "    # Run an optimization step over a training batch\n",
    "    state = train_epoch(state, train_ds, batch_size, epoch, input_rng)\n",
    "    # Evaluate on the test set after each training epoch \n",
    "    loss, accuracy = eval_model(state, X=train_ds['X'], y=train_ds['y'])\n",
    "    val_loss, val_accuracy = eval_model(state, X=test_ds['X'], y=test_ds['y'])\n",
    "    history['loss'].append(loss)\n",
    "    history['val_loss'].append(val_loss)\n",
    "    history['accuracy'].append(accuracy)\n",
    "    history['val_accuracy'].append(val_accuracy)\n",
    "    history['epochs'].append(epoch)\n",
    "    print('epoch: {} | loss: {:.5f} | val_loss: {:.5f} | accuracy: {:.2f} | val_accuracy {:.2f} |'.format(\n",
    "      epoch, loss, val_loss, accuracy * 100, val_accuracy * 100))"
   ]
  },
  {
   "cell_type": "code",
   "execution_count": 563,
   "metadata": {},
   "outputs": [
    {
     "data": {
      "text/plain": [
       "<bound method Module.apply of MLPClassifier(\n",
       "    # attributes\n",
       "    dimensions = [16, 8, 4, 1]\n",
       ")>"
      ]
     },
     "execution_count": 563,
     "metadata": {},
     "output_type": "execute_result"
    }
   ],
   "source": [
    "state.apply_fn"
   ]
  },
  {
   "cell_type": "code",
   "execution_count": 564,
   "metadata": {},
   "outputs": [
    {
     "name": "stdout",
     "output_type": "stream",
     "text": [
      "dict_keys(['step', 'apply_fn', 'params', 'tx', 'opt_state'])\n"
     ]
    }
   ],
   "source": [
    "# apply_fn was defined above to be CNN().apply()\n",
    "print(state.__dict__.keys())"
   ]
  },
  {
   "cell_type": "code",
   "execution_count": 565,
   "metadata": {
    "colab": {
     "base_uri": "https://localhost:8080/"
    },
    "id": "FNTxLXI8kDeK",
    "outputId": "4fd45fad-3454-4ab8-f766-55d5f56b41ec"
   },
   "outputs": [],
   "source": [
    "y_test = test_ds['y']"
   ]
  },
  {
   "cell_type": "code",
   "execution_count": 566,
   "metadata": {
    "colab": {
     "base_uri": "https://localhost:8080/",
     "height": 265
    },
    "id": "giIkry0Ck-zY",
    "outputId": "c987f6e8-af75-47dc-cf00-33b3d01d56c2"
   },
   "outputs": [
    {
     "data": {
      "image/png": "[encoded data removed]",
      "text/plain": [
       "<Figure size 432x288 with 1 Axes>"
      ]
     },
     "metadata": {
      "needs_background": "light"
     },
     "output_type": "display_data"
    }
   ],
   "source": [
    "import matplotlib.pyplot as plt\n",
    "plt.plot(history['epochs'], history['loss'], label='Loss')\n",
    "plt.plot(history['epochs'], history['val_loss'], label='Validation Loss')\n",
    "plt.legend()\n",
    "plt.show()"
   ]
  },
  {
   "cell_type": "code",
   "execution_count": 567,
   "metadata": {},
   "outputs": [
    {
     "data": {
      "image/png": "[encoded data removed]",
      "text/plain": [
       "<Figure size 432x288 with 1 Axes>"
      ]
     },
     "metadata": {
      "needs_background": "light"
     },
     "output_type": "display_data"
    }
   ],
   "source": [
    "import matplotlib.pyplot as plt\n",
    "plt.plot(history['epochs'], history['accuracy'], label='Accuracy')\n",
    "plt.plot(history['epochs'], history['val_accuracy'], label='Validation Accuracy')\n",
    "plt.legend()\n",
    "plt.show()"
   ]
  },
  {
   "cell_type": "code",
   "execution_count": 569,
   "metadata": {},
   "outputs": [],
   "source": [
    "y_pred_proba = predict(state, test_ds['X'])\n",
    "y_pred = jnp.where(y_pred_proba < .5, 0, 1) #useful feature!"
   ]
  },
  {
   "cell_type": "code",
   "execution_count": 570,
   "metadata": {},
   "outputs": [
    {
     "name": "stdout",
     "output_type": "stream",
     "text": [
      "              precision    recall  f1-score   support\n",
      "\n",
      "         0.0       0.95      0.98      0.97        43\n",
      "         1.0       0.99      0.97      0.98        71\n",
      "\n",
      "    accuracy                           0.97       114\n",
      "   macro avg       0.97      0.97      0.97       114\n",
      "weighted avg       0.97      0.97      0.97       114\n",
      "\n"
     ]
    }
   ],
   "source": [
    "from sklearn.metrics import classification_report\n",
    "print(classification_report(y_test, y_pred))"
   ]
  },
  {
   "cell_type": "code",
   "execution_count": 571,
   "metadata": {},
   "outputs": [],
   "source": [
    "from sklearn.metrics import roc_curve, roc_auc_score\n",
    "fpr, tpr, thresholds = roc_curve(y_test, y_pred_proba, pos_label=1)\n",
    "auc = roc_auc_score(y_test, y_pred_proba)"
   ]
  },
  {
   "cell_type": "code",
   "execution_count": 572,
   "metadata": {},
   "outputs": [
    {
     "data": {
      "image/png": "[encoded data removed]",
      "text/plain": [
       "<Figure size 432x288 with 1 Axes>"
      ]
     },
     "metadata": {
      "needs_background": "light"
     },
     "output_type": "display_data"
    }
   ],
   "source": [
    "plt.plot(fpr, tpr, label='AUC : {:.2f}'.format(auc))\n",
    "plt.legend()\n",
    "plt.show()"
   ]
  },
  {
   "cell_type": "code",
   "execution_count": null,
   "metadata": {},
   "outputs": [],
   "source": []
  }
 ],
 "metadata": {
  "accelerator": "GPU",
  "colab": {
   "collapsed_sections": [],
   "name": "Official MNIST FLAX",
   "provenance": []
  },
  "jupytext": {
   "formats": "ipynb,md:myst",
   "main_language": "python"
  },
  "kernelspec": {
   "display_name": "Python 3 (ipykernel)",
   "language": "python",
   "name": "python3"
  },
  "language_info": {
   "codemirror_mode": {
    "name": "ipython",
    "version": 3
   },
   "file_extension": ".py",
   "mimetype": "text/x-python",
   "name": "python",
   "nbconvert_exporter": "python",
   "pygments_lexer": "ipython3",
   "version": "3.9.6"
  }
 },
 "nbformat": 4,
 "nbformat_minor": 1
}
